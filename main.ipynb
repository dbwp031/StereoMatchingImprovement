{
  "cells": [
    {
      "cell_type": "code",
      "execution_count": null,
      "metadata": {
        "id": "dczK2aDq3F-T"
      },
      "outputs": [],
      "source": [
        "from google.colab import drive\n",
        "from google.colab.patches import cv2_imshow\n",
        "import numpy as np\n",
        "import cv2"
      ]
    },
    {
      "cell_type": "code",
      "execution_count": null,
      "metadata": {
        "colab": {
          "base_uri": "https://localhost:8080/"
        },
        "id": "VMOQSZsw3M17",
        "outputId": "a1453b2d-44d8-4e24-c331-b0ec836a8760"
      },
      "outputs": [
        {
          "name": "stdout",
          "output_type": "stream",
          "text": [
            "Drive already mounted at /content/drive; to attempt to forcibly remount, call drive.mount(\"/content/drive\", force_remount=True).\n"
          ]
        }
      ],
      "source": [
        "drive.mount('/content/drive')"
      ]
    },
    {
      "cell_type": "code",
      "execution_count": null,
      "metadata": {
        "id": "_SMybFaW3O60"
      },
      "outputs": [],
      "source": [
        "def img2np(path,resize=None):\n",
        "    '''\n",
        "    이미지의 주소를 입력받아 이미지를 불러온 후, numpy로 변경해주는 함수이다.\n",
        "    '''\n",
        "    img = cv2.imread(path)\n",
        "    \n",
        "    if resize:\n",
        "        img = cv2.resize(img,resize)\n",
        "\n",
        "    imgArray = np.array(img)\n",
        "    \n",
        "    return imgArray"
      ]
    },
    {
      "cell_type": "code",
      "execution_count": null,
      "metadata": {
        "id": "DNoag5vt5ZS9"
      },
      "outputs": [],
      "source": [
        "def grayscale(img):\n",
        "    #ITU-R BT.601에서 정의된 식을 사용하여 기존 rgb이미지를 grayscale로 변경한다.\n",
        "    r,g,b = img[:,:,0],img[:,:,1],img[:,:,2]\n",
        "    return 0.2989 * r + 0.5870 * g + 0.1140 * b"
      ]
    },
    {
      "cell_type": "code",
      "execution_count": null,
      "metadata": {
        "id": "RKpKe1FC5di8"
      },
      "outputs": [],
      "source": [
        "def dsi(imL,imR):\n",
        "    # 두 이미지의 dsi를 구한다.\n",
        "    # 1. 이미지의 H와 W를 구한다.\n",
        "    h,w = imL.shape\n",
        "    # 2. 두 이미지의 DSI를 저장할 텐서를 선언한다. 이 때 사이즈는 (HxWxW)이다.\n",
        "    #    기본값을 500으로 설정했습니다. 효율성을 위해 dsi 전체가 아닌 필요한 부분만을 계산하기로 했다.\n",
        "    #    만약 기본값이 0이라고 한다면, 후에 costMap에서 계산하지 않은 부분의 dsi값이 낮아 제대로된 costMap을 구할 수 없어, 이를 해결하기 위해 높은 값으로 500을 설정해주었다.\n",
        "    dsi = np.ones((h,w,w))* 500\n",
        "    \n",
        "    for row in range(h):\n",
        "        for r in range(w):\n",
        "            for c in range(w):\n",
        "                if r- c >= w*0 or r - c < -w*0.2:\n",
        "                    #이때, 각 dsi의 x축이 right image, y축이 left image이기 때문에 right image point - left image point > 0인 부분만 계산할 수 있도록 했다.\n",
        "                    #또한. right image point - left image point <0인 부분 모두를 계산하지 않고, 더욱 효율적인 계산을 하기 위해 휴리스틱한 방법으로 적절한 범위를 찾았고,\n",
        "                    #그 결과, right image point - left image point < - image width * 0.2까지 이미지의 차이가 있지 않아 이 값으로 설정해주었다.\n",
        "                    #                    right image\n",
        "                    #                   ________\n",
        "                    #         left     |\n",
        "                    #         image    |\n",
        "                    continue\n",
        "                left = imL[row,r]\n",
        "                right= imR[row,c]\n",
        "                # dsi 값으로 두 값의 차의 제곱으로 설정해주었다.\n",
        "                dsi[row,r,c]= ((left-right)**2)/32\n",
        "        if row % 50 == 0:\n",
        "            print(f\"-----row{row}-------\")\n",
        "            print(\"DSI Left\")\n",
        "            cv2_imshow(dsi[row])\n",
        "    return dsi"
      ]
    },
    {
      "cell_type": "code",
      "execution_count": null,
      "metadata": {
        "id": "8SgQcZto7WLO"
      },
      "outputs": [],
      "source": [
        "def costMap(dsi):\n",
        "    # dsi 텐서를 받아 costMap을 생성해 반환해줍니다.\n",
        "    h,w = dsi.shape[:2]\n",
        "    # 휴리스틱한 방법을 사용해 occ의 적절한 값을 찾았다.\n",
        "    occ = 3\n",
        "    # 각 dsi에 대한 costMap을 저장하는 텐서를 생성해준다.\n",
        "    cost = np.zeros((h,w,w))\n",
        "    for row in range(h):\n",
        "        for r in range(w):\n",
        "            for c in range(w):\n",
        "                # 기본적으로 각 costMap의 0번째 열과 0번째 행에는 occlusion 값들을 설정해준다.\n",
        "                if r == 0:\n",
        "                    cost[row,r,c]=occ*c\n",
        "                elif c == 0:\n",
        "                    cost[row,r,c]=occ*r\n",
        "    # dynamicMap 생성\n",
        "    for row in range(h):\n",
        "        for r in range(w):\n",
        "            for c in range(w):\n",
        "                # 대각선 / 왼->오 / 위-> 아래 방향중 가장 낮은 값을 현재 위치의 cost로 설정해준다.\n",
        "                m1 = cost[row,r-1,c-1]+dsi[row,r,c]\n",
        "                m2 = cost[row,r-1,c]+occ #오른쪽으로 감\n",
        "                m3 = cost[row,r,c-1]+occ #아래로 내려감\n",
        "                move = min(m1,m2,m3)\n",
        "                cost[row,r,c] = move\n",
        "        if row % 50 == 0:\n",
        "            print(f\"----{row}----\")\n",
        "            cv2_imshow(cost[row]-np.mean(cost[row]))\n",
        "    return cost"
      ]
    },
    {
      "cell_type": "code",
      "execution_count": null,
      "metadata": {
        "id": "T6WHGV9KGvUH"
      },
      "outputs": [],
      "source": [
        "# costMap(dynamicMap)을 통해 최적의 route를 구한다.\n",
        "# 여기서 생기는 route는 결국 같은 row에서 route(a,b)에서 a와 b가 가장 같아요! 란 의미야\n",
        "# 그럼\n",
        "def findRoute(cost):\n",
        "    # CostMap을 받아\n",
        "    h,w = cost.shape[:2]\n",
        "    # costMap을 통해서 각 row에 대한 depth값을 저장할 배열을 생성합니다.\n",
        "    # route_right: 오른쪽 이미지 기준의 depth값을 저장한다.\n",
        "    # route_left: 왼쪽 이미지 기준의 depth값을 저장한다.\n",
        "    # route_right = np.zeros((h,w))\n",
        "    # route_left = np.zeros((h,w))\n",
        "    # 최종 depth image가 될 2차원 배열을 생성해준다.\n",
        "    depth_right = np.zeros((h,w))\n",
        "    depth_left = np.zeros((h,w))\n",
        "    for row in range(h):\n",
        "        # 마지막 인덱스(w-1,w-1)부터 역으로 optimal path를 찾아, depth 값을 저장한다.\n",
        "        r,c = w-1,w-1\n",
        "        while r != -1 and c != -1:\n",
        "            # m1 대각선 m2 가로로(왼쪽) m3 세로로(위) 이동한다는 의미이다.\n",
        "            # 위 세 값중 가장 낮은 값이 optimal path이다.\n",
        "            m1 = cost[row,r-1,c-1]\n",
        "            m2 = cost[row,r,c-1]\n",
        "            m3 = cost[row,r-1,c]\n",
        "            move = min(m1,m2,m3)\n",
        "            \n",
        "            # depth 값들을 업데이트 해준다.\n",
        "            # 오른쪽 이미지를 기준으로 하는 depth image는 column, 왼쪽 이미지를 기준으로하는 depth image는 row를 기준으로 업데이트를 해준다.\n",
        "            depth_right[row,c] = abs(r-c)*4\n",
        "            depth_left[row,r]=abs(r-c)*4\n",
        "            # 이동 방향으로 r,c를 업데이트 해준다.\n",
        "            if m1 == move:\n",
        "                r,c = r-1,c-1\n",
        "            elif m2 == move:\n",
        "                r,c = r,c-1\n",
        "            else:\n",
        "                r,c = r-1,c\n",
        "        # print(row)\n",
        "    print(\"왼쪽 이미지 기준 depth map\")\n",
        "    cv2_imshow(depth_left)\n",
        "    print(\"오른쪽 이미지 기준 depth map\")\n",
        "    cv2_imshow(depth_right)\n",
        "    return depth_left,depth_right"
      ]
    },
    {
      "cell_type": "code",
      "execution_count": null,
      "metadata": {
        "id": "VjNA9Ri-KVb6"
      },
      "outputs": [],
      "source": [
        "if __name__ =='__main__':\n",
        "    imR = img2np(path = '/content/drive/MyDrive/Colab Notebooks/cv/images/im2_2.png',resize=(224,224))\n",
        "    imL = img2np(path = '/content/drive/MyDrive/Colab Notebooks/cv/images/im6_2.png',resize=(224,224))\n",
        "    imL=grayscale(imL)\n",
        "    imR=grayscale(imR)\n",
        "\n",
        "    cv2_imshow(imL)\n",
        "    cv2_imshow(imR)\n",
        "    print(f\"=====DSI=====\")\n",
        "    mydsi = dsi(imL,imR)\n",
        "    print(f\"=====CostMap=====\")\n",
        "    mycost= costMap(mydsi)\n",
        "    depth_left,depth_right=findRoute(mycost)"
      ]
    },
    {
      "cell_type": "code",
      "execution_count": null,
      "metadata": {
        "id": "vVPtRCXUnn9-"
      },
      "outputs": [],
      "source": [
        "# 제안하는 함수들\n",
        "\n",
        "# 새롭게 제안한 depth 공식이다.(실험 1)\n",
        "def findRoute_propose(cost):\n",
        "    h,w = cost.shape[:2]\n",
        "    depth_right = np.zeros((h,w))\n",
        "    depth_left = np.zeros((h,w))\n",
        "    for row in range(h):\n",
        "        r,c = w-1,w-1\n",
        "        while r != -1 and c != -1:\n",
        "            m1 = cost[row,r-1,c-1]\n",
        "            m2 = cost[row,r,c-1]\n",
        "            m3 = cost[row,r-1,c]\n",
        "            move = min(m1,m2,m3)\n",
        "            p = 0.5\n",
        "            # abs와 제곱을 선형결합한다.\n",
        "            depth_right[row,c] = (((r-c)**2)/4) *(1-p) + abs(r-c)*4 *p\n",
        "            depth_left[row,r]=(((r-c)**2)/4) *(1-p) + abs(r-c)*4 *p\n",
        "            if m1 == move:\n",
        "                r,c = r-1,c-1\n",
        "            elif m2 == move:\n",
        "                r,c = r,c-1\n",
        "            else:\n",
        "                r,c = r-1,c\n",
        "        # print(row)\n",
        "    print(\"왼쪽 이미지 기준 depth map\")\n",
        "    cv2_imshow(depth_left)\n",
        "    print(\"오른쪽 이미지 기준 depth map\")\n",
        "    cv2_imshow(depth_right)\n",
        "    return depth_left,depth_right"
      ]
    },
    {
      "cell_type": "code",
      "execution_count": null,
      "metadata": {
        "id": "6NQFB_iQ1PEb"
      },
      "outputs": [],
      "source": [
        "import copy\n",
        "# 새롭게 제안하는 depth map 후처리 방법이다. (실험 2)\n",
        "def depth_relu(depth,hold):\n",
        "    depth = copy.deepcopy(depth)\n",
        "    h,w = depth.shape\n",
        "    for r in range(h):\n",
        "        for c in range(w):\n",
        "            if depth[r,c] > hold:\n",
        "                depth[r,c] = hold\n",
        "    print(hold)\n",
        "    cv2_imshow(depth)"
      ]
    },
    {
      "cell_type": "code",
      "execution_count": null,
      "metadata": {
        "id": "Jgzcqvg91Xl8"
      },
      "outputs": [],
      "source": [
        "# 새롭게 제안하는 depth map 후처리 방법이다. (실험 3)\n",
        "\n",
        "def depth_LeakyReLU(depth,p):\n",
        "    depth = copy.deepcopy(depth)\n",
        "    h,w = depth.shape\n",
        "\n",
        "    sorted_depth = depth.reshape(-1,1)\n",
        "    sorted_depth = np.squeeze(depth)\n",
        "    sorted_depth = np.sort(sorted_depth)\n",
        "    hold = sorted_depth[0,int(len(sorted_depth)*p)]\n",
        "    print(hold)\n",
        "    for r in range(h):\n",
        "        for c in range(w):\n",
        "            if depth[r,c] > hold:\n",
        "                depth[r,c] = hold*0.5 + depth[r,c]*0.5\n",
        "    print(p,hold)\n",
        "    cv2_imshow(depth)"
      ]
    }
  ],
  "metadata": {
    "colab": {
      "collapsed_sections": [],
      "name": "final_exam.ipynb",
      "provenance": []
    },
    "kernelspec": {
      "display_name": "Python 3",
      "name": "python3"
    },
    "language_info": {
      "name": "python"
    }
  },
  "nbformat": 4,
  "nbformat_minor": 0
}
